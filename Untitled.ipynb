{
 "cells": [
  {
   "cell_type": "code",
   "execution_count": 16,
   "metadata": {
    "collapsed": true
   },
   "outputs": [],
   "source": [
    "%matplotlib inline"
   ]
  },
  {
   "cell_type": "code",
   "execution_count": 17,
   "metadata": {
    "collapsed": true
   },
   "outputs": [],
   "source": [
    "import numpy as np\n",
    "import matplotlib.pyplot as plt"
   ]
  },
  {
   "cell_type": "code",
   "execution_count": 39,
   "metadata": {},
   "outputs": [
    {
     "data": {
      "image/png": "[encoded data removed]",
      "text/plain": [
       "<matplotlib.figure.Figure at 0x10aac8e50>"
      ]
     },
     "metadata": {},
     "output_type": "display_data"
    }
   ],
   "source": [
    "N_points = 10000000\n",
    "n_bins = 100\n",
    "x = np.random.randn(N_points)\n",
    "y = .4 * x + np.random.randn(N_points) + 5\n",
    "\n",
    "fig, axs = plt.subplots(1, 2, sharey=True, tight_layout=True)\n",
    "\n",
    "# We can set the number of bins with the `bins` kwarg\n",
    "arr = axs[0].hist(x, bins=n_bins)[0]\n",
    "#axs[1].hist(y, bins=n_bins)"
   ]
  },
  {
   "cell_type": "code",
   "execution_count": 40,
   "metadata": {},
   "outputs": [
    {
     "data": {
      "text/plain": [
       "[2.1806912006057086e-06,\n",
       " 2.1806912006057086e-06,\n",
       " 8.7227648024228344e-06,\n",
       " 1.0903456003028544e-05,\n",
       " 2.6168294407268506e-05,\n",
       " 1.3084147203634253e-05,\n",
       " 4.7975206413325594e-05,\n",
       " 5.6697971215748425e-05,\n",
       " 0.00012866078083573681,\n",
       " 0.00013956423683876535,\n",
       " 0.00021806912006057088,\n",
       " 0.00035763335689933625,\n",
       " 0.00057134109455869568,\n",
       " 0.00081775920022714079,\n",
       " 0.0011470435715186028,\n",
       " 0.0017707212548918356,\n",
       " 0.0025710349255141304,\n",
       " 0.0037071750410297049,\n",
       " 0.0052598271758609698,\n",
       " 0.0072289913300079243,\n",
       " 0.0098894345947468897,\n",
       " 0.01335455291250936,\n",
       " 0.01864927114758002,\n",
       " 0.024415018681981517,\n",
       " 0.032241519400955404,\n",
       " 0.041893258654836271,\n",
       " 0.054065876936617338,\n",
       " 0.068478065081420472,\n",
       " 0.08678278701930478,\n",
       " 0.10874888948300609,\n",
       " 0.13434148141331467,\n",
       " 0.16434561164244862,\n",
       " 0.19739834817002935,\n",
       " 0.23601620864155587,\n",
       " 0.27790728660519154,\n",
       " 0.32533077814476385,\n",
       " 0.37684960775907372,\n",
       " 0.43103978409412558,\n",
       " 0.48576641046452645,\n",
       " 0.54438993201040975,\n",
       " 0.60082840097328605,\n",
       " 0.65656032598716618,\n",
       " 0.71095330660387435,\n",
       " 0.76137960992668074,\n",
       " 0.80828191626930834,\n",
       " 0.84492407051308605,\n",
       " 0.87542539833595812,\n",
       " 0.89794539636461324,\n",
       " 0.90676411157986281,\n",
       " 0.90909090909090906,\n",
       " 0.90149556163919942,\n",
       " 0.88242977847230364,\n",
       " 0.85760697053580892,\n",
       " 0.82281622312134539,\n",
       " 0.78168402569552053,\n",
       " 0.73222812995698372,\n",
       " 0.68108655992037859,\n",
       " 0.62511912025683303,\n",
       " 0.56656974221177037,\n",
       " 0.50904528903099244,\n",
       " 0.45403735349571339,\n",
       " 0.39851695552829208,\n",
       " 0.34656416836506165,\n",
       " 0.29689456488886545,\n",
       " 0.25234522435169138,\n",
       " 0.21195010055167127,\n",
       " 0.17744066230208591,\n",
       " 0.14640942651746669,\n",
       " 0.11874735863778327,\n",
       " 0.095178448141636757,\n",
       " 0.075990546267507134,\n",
       " 0.05977492649980308,\n",
       " 0.046398566675287661,\n",
       " 0.036245268445267487,\n",
       " 0.02686611559146233,\n",
       " 0.020751457464963926,\n",
       " 0.015362969508267219,\n",
       " 0.011141151343894566,\n",
       " 0.0083062527831071452,\n",
       " 0.006051418081680842,\n",
       " 0.0044093576076247431,\n",
       " 0.0030093538568358781,\n",
       " 0.0020149586693596747,\n",
       " 0.0014545210308040076,\n",
       " 0.00097913034907196332,\n",
       " 0.00061495491857080982,\n",
       " 0.00047320999053143882,\n",
       " 0.00024641810566844506,\n",
       " 0.0002006235904557252,\n",
       " 0.00011993801603331397,\n",
       " 8.2866265623016938e-05,\n",
       " 3.0529676808479925e-05,\n",
       " 2.8348985607874212e-05,\n",
       " 1.9626220805451378e-05,\n",
       " 1.0903456003028544e-05,\n",
       " 4.3613824012114172e-06,\n",
       " 4.3613824012114172e-06,\n",
       " 4.3613824012114172e-06,\n",
       " 2.1806912006057086e-06,\n",
       " 4.3613824012114172e-06]"
      ]
     },
     "execution_count": 40,
     "metadata": {},
     "output_type": "execute_result"
    }
   ],
   "source": [
    "scale = max(arr) * 1.1\n",
    "[a / scale for a in arr]"
   ]
  },
  {
   "cell_type": "code",
   "execution_count": null,
   "metadata": {
    "collapsed": true
   },
   "outputs": [],
   "source": []
  }
 ],
 "metadata": {
  "kernelspec": {
   "display_name": "Python 2",
   "language": "python",
   "name": "python2"
  },
  "language_info": {
   "codemirror_mode": {
    "name": "ipython",
    "version": 2
   },
   "file_extension": ".py",
   "mimetype": "text/x-python",
   "name": "python",
   "nbconvert_exporter": "python",
   "pygments_lexer": "ipython2",
   "version": "2.7.13"
  }
 },
 "nbformat": 4,
 "nbformat_minor": 2
}
